{
 "cells": [
  {
   "cell_type": "code",
   "execution_count": 1,
   "id": "b0c51154",
   "metadata": {},
   "outputs": [
    {
     "name": "stdout",
     "output_type": "stream",
     "text": [
      "Collecting pillow\n",
      "  Downloading Pillow-9.0.1-cp38-cp38-manylinux_2_17_x86_64.manylinux2014_x86_64.whl (4.3 MB)\n",
      "\u001b[2K     \u001b[38;2;114;156;31m━━━━━━━━━━━━━━━━━━━━━━━━━━━━━━━━━━━━━━━━\u001b[0m \u001b[32m4.3/4.3 MB\u001b[0m \u001b[31m13.2 MB/s\u001b[0m eta \u001b[36m0:00:00\u001b[0mm eta \u001b[36m0:00:01\u001b[0m[36m0:00:01\u001b[0m\n",
      "\u001b[?25hInstalling collected packages: pillow\n",
      "Successfully installed pillow-9.0.1\n"
     ]
    }
   ],
   "source": [
    "!pip install pillow"
   ]
  },
  {
   "cell_type": "code",
   "execution_count": 5,
   "id": "768c9c61",
   "metadata": {},
   "outputs": [],
   "source": [
    "layout = '../layout.png'"
   ]
  },
  {
   "cell_type": "code",
   "execution_count": 12,
   "id": "ba78193e",
   "metadata": {},
   "outputs": [],
   "source": [
    "from PIL import ImageDraw,ImageFont, Image\n",
    "background = Image.open(layout)"
   ]
  },
  {
   "cell_type": "code",
   "execution_count": 51,
   "id": "b8cba3dc",
   "metadata": {},
   "outputs": [],
   "source": [
    "myFont = ImageFont.truetype('../YatraOne-Regular.ttf', 40)"
   ]
  },
  {
   "cell_type": "code",
   "execution_count": 23,
   "id": "2edfd8b7",
   "metadata": {},
   "outputs": [],
   "source": [
    "import textwrap"
   ]
  },
  {
   "cell_type": "code",
   "execution_count": 144,
   "id": "26dbe8ff",
   "metadata": {},
   "outputs": [],
   "source": [
    "import pickle, re"
   ]
  },
  {
   "cell_type": "code",
   "execution_count": 211,
   "id": "b5736c1d",
   "metadata": {},
   "outputs": [],
   "source": [
    "smallFont = ImageFont.truetype('../YatraOne-Regular.ttf', 24)"
   ]
  },
  {
   "cell_type": "code",
   "execution_count": 212,
   "id": "90c3fa78",
   "metadata": {},
   "outputs": [],
   "source": [
    "with open('english_translation.pkl','rb') as f:\n",
    "    english_translation = pickle.load(f)"
   ]
  },
  {
   "cell_type": "code",
   "execution_count": 230,
   "id": "aa991252",
   "metadata": {},
   "outputs": [],
   "source": [
    "myFont = ImageFont.truetype('../YatraOne-Regular.ttf', 30)"
   ]
  },
  {
   "cell_type": "markdown",
   "id": "ea7b4afa",
   "metadata": {},
   "source": [
    "## Verse Automation"
   ]
  },
  {
   "cell_type": "code",
   "execution_count": 1,
   "id": "9152fbb1",
   "metadata": {},
   "outputs": [],
   "source": [
    "from tqdm import tqdm\n",
    "import pickle, re"
   ]
  },
  {
   "cell_type": "code",
   "execution_count": 3,
   "id": "2a4828bd",
   "metadata": {},
   "outputs": [],
   "source": [
    "from PIL import Image,ImageDraw,ImageFont"
   ]
  },
  {
   "cell_type": "code",
   "execution_count": 4,
   "id": "94fc7d53",
   "metadata": {},
   "outputs": [],
   "source": [
    "myFont = ImageFont.truetype('../YatraOne-Regular.ttf', 40)"
   ]
  },
  {
   "cell_type": "code",
   "execution_count": 6,
   "id": "b6b1b99d",
   "metadata": {},
   "outputs": [],
   "source": [
    "with open('./verses.pkl','rb') as f:\n",
    "    geeta_verses = pickle.load(f)\n",
    "layout = '../layout.png'"
   ]
  },
  {
   "cell_type": "code",
   "execution_count": 7,
   "id": "e0759fbf",
   "metadata": {},
   "outputs": [
    {
     "name": "stderr",
     "output_type": "stream",
     "text": [
      "100%|██████████| 623/623 [00:37<00:00, 16.67it/s]\n"
     ]
    }
   ],
   "source": [
    "for key in tqdm(geeta_verses):\n",
    "    try:\n",
    "        chapter = key.split('/')[2]\n",
    "        verses = key.split('/')[-1]\n",
    "    except:\n",
    "        pass\n",
    "\n",
    "    verse_list = geeta_verses[key]\n",
    "\n",
    "    verses_lines = list()\n",
    "\n",
    "    for idx, verse in enumerate(verse_list):\n",
    "        if idx >0:\n",
    "            verses_lines.append(' ')\n",
    "        verses_lines.extend(verse.split('\\n'))\n",
    "\n",
    "    # Open an Image\n",
    "    img = Image.open(layout)\n",
    "\n",
    "    # Call draw Method to add 2D graphics in an image\n",
    "    I1 = ImageDraw.Draw(img)\n",
    "\n",
    "    TITLE = \"||श्रीमद्भगवद्‌गीता||\"\n",
    "    H, W = img.size\n",
    "\n",
    "    Y_TEXT = 80\n",
    "    #Add Title\n",
    "    width, _ = myFont.getsize(TITLE)\n",
    "    I1.text(((W-width-40)/2,Y_TEXT), TITLE, font=myFont, fill=\"#dec557\", align='center')\n",
    "\n",
    "    import textwrap\n",
    "    # lines = [line.strip() for line in verses_lines]\n",
    "    lines = verses_lines\n",
    "    y_text = H/2\n",
    "    n_lines = len(lines)\n",
    "    y_text = (H-n_lines*myFont.getsize(lines[0])[-1])/2\n",
    "\n",
    "    for idx, line in  enumerate(lines):\n",
    "        width, height = myFont.getsize(line)\n",
    "    #     I1.text(((W-width)/2,(H-height*(n_lines-2*idx))/2), line, font=myFont, fill=\"#dec557\", align='center')\n",
    "        I1.text(((W-width-40)/2,y_text+40), line, font=myFont, fill=\"#dec557\", align='center')\n",
    "        y_text+=height\n",
    "\n",
    "    BOTTOM = f\"अध्याय: {chapter} श्लोक: {verses}\"\n",
    "    width, height = myFont.getsize(BOTTOM)\n",
    "    I1.text(((W-width-40)/2,H-Y_TEXT/2-height), BOTTOM, font=myFont, fill=\"#dec557\", align='center')\n",
    "\n",
    "    # img.show()\n",
    "    img.save(f'../output/verses/geeta_{str(chapter).zfill(2)}_{verses}_00.png')"
   ]
  },
  {
   "cell_type": "code",
   "execution_count": null,
   "id": "1dd19014",
   "metadata": {},
   "outputs": [],
   "source": []
  },
  {
   "cell_type": "markdown",
   "id": "0698a8e1",
   "metadata": {},
   "source": [
    "## Hindi Translation"
   ]
  },
  {
   "cell_type": "code",
   "execution_count": 8,
   "id": "bfec927f",
   "metadata": {},
   "outputs": [],
   "source": [
    "with open('hindi_translation.pkl','rb') as f:\n",
    "    hindi_translation = pickle.load(f)"
   ]
  },
  {
   "cell_type": "code",
   "execution_count": 9,
   "id": "a02420eb",
   "metadata": {},
   "outputs": [],
   "source": [
    "hindi_translation['/chapter/11/verse/8'] = \"परन्तु मुझको तू इन अपने प्राकृत नेत्रों द्वारा देखने में नि:संदेह समर्थ नहीं है; इसी में मैं तुझे दिव्य अर्थात् अलौकिक चक्षु देता हूँ; उससे तू मेरी ईश्वरीय योग शक्ति को देख।।\""
   ]
  },
  {
   "cell_type": "code",
   "execution_count": 11,
   "id": "2ec9b95b",
   "metadata": {},
   "outputs": [
    {
     "name": "stderr",
     "output_type": "stream",
     "text": [
      "100%|██████████| 701/701 [01:02<00:00, 11.21it/s]\n"
     ]
    }
   ],
   "source": [
    "import re\n",
    "for key in tqdm(hindi_translation):\n",
    "    chapter = key.split('/')[2]\n",
    "    verses = key.split('/')[-1]\n",
    "\n",
    "    translation = hindi_translation[key]\n",
    "\n",
    "    translation = re.sub(r'।।\\d+.\\d+।।','',translation)\n",
    "    try:\n",
    "        # Open an Image\n",
    "        img = Image.open(layout)\n",
    "\n",
    "        # Call draw Method to add 2D graphics in an image\n",
    "        I1 = ImageDraw.Draw(img)\n",
    "\n",
    "        TITLE = \"||श्रीमद्भगवद्‌गीता||\"\n",
    "        H, W = img.size\n",
    "\n",
    "        Y_TEXT = 80\n",
    "        #Add Title\n",
    "        width, _ = myFont.getsize(TITLE)\n",
    "        I1.text(((W-width-40)/2,Y_TEXT), TITLE, font=myFont, fill=\"#dec557\", align='center')\n",
    "\n",
    "        import textwrap\n",
    "        lines = textwrap.wrap(translation, width=40)\n",
    "        y_text = H/2\n",
    "        n_lines = len(lines)\n",
    "        y_text = (H-n_lines*myFont.getsize(lines[0])[-1])/2\n",
    "\n",
    "        for idx, line in  enumerate(lines):\n",
    "            width, height = myFont.getsize(line)\n",
    "        #     I1.text(((W-width)/2,(H-height*(n_lines-2*idx))/2), line, font=myFont, fill=\"#dec557\", align='center')\n",
    "            I1.text(((W-width-40)/2,y_text+40), line, font=myFont, fill=\"#dec557\", align='center')\n",
    "            y_text+=height\n",
    "\n",
    "        BOTTOM = f\"अध्याय: {chapter} श्लोक: {verses}\"\n",
    "        width, height = myFont.getsize(BOTTOM)\n",
    "        I1.text(((W-width-40)/2,H-Y_TEXT/2-height), BOTTOM, font=myFont, fill=\"#dec557\", align='center')\n",
    "        img.save(f'../output/hindi_translation/geeta_{str(chapter).zfill(2)}_{verses.zfill(2)}_01.png')\n",
    "    except Exception as e:\n",
    "        print(key)\n",
    "        print(e)\n",
    "        \n",
    "\n",
    "# img.show()\n",
    "    img.save(f'../output/hindi_translation/{str(chapter).zfill(2)}_{verses}_00.png')"
   ]
  },
  {
   "cell_type": "markdown",
   "id": "2ec33f88",
   "metadata": {},
   "source": [
    "## English Translation"
   ]
  },
  {
   "cell_type": "code",
   "execution_count": 12,
   "id": "beb04624",
   "metadata": {},
   "outputs": [],
   "source": [
    "import pickle, re"
   ]
  },
  {
   "cell_type": "code",
   "execution_count": 13,
   "id": "7ee14d0e",
   "metadata": {},
   "outputs": [],
   "source": [
    "with open('english_translation.pkl','rb') as f:\n",
    "    english_translation = pickle.load(f)"
   ]
  },
  {
   "cell_type": "code",
   "execution_count": 14,
   "id": "821b1030",
   "metadata": {},
   "outputs": [
    {
     "name": "stderr",
     "output_type": "stream",
     "text": [
      "  6%|▋         | 39/624 [00:02<00:30, 18.90it/s]"
     ]
    },
    {
     "name": "stdout",
     "output_type": "stream",
     "text": [
      "javascript:;\n"
     ]
    },
    {
     "name": "stderr",
     "output_type": "stream",
     "text": [
      "100%|██████████| 624/624 [00:36<00:00, 17.09it/s]\n"
     ]
    }
   ],
   "source": [
    "myFont = ImageFont.truetype('../YatraOne-Regular.ttf', 30)\n",
    "for key in tqdm(english_translation):\n",
    "    try:\n",
    "        chapter = key.split('/')[2]\n",
    "        verses = key.split('/')[-1]\n",
    "    except:\n",
    "        print(key)\n",
    "        continue\n",
    "\n",
    "    translation = english_translation[key]\n",
    "\n",
    "    translation = re.sub(r'BG \\d+.\\d+[-]{0,1}\\d{0,2}:\\n','',translation).strip()\n",
    "    translation = translation.replace('  ',' ')\n",
    "\n",
    "    # myFont = ImageFont.truetype('../YatraOne-Regular.ttf', 30)\n",
    "\n",
    "    # Open an Image\n",
    "    img = Image.open(layout)\n",
    "\n",
    "    # Call draw Method to add 2D graphics in an image\n",
    "    I1 = ImageDraw.Draw(img)\n",
    "\n",
    "    TITLE = \"||Śrīmad-Bhāgavatam-Gītā||\"\n",
    "    H, W = img.size\n",
    "\n",
    "    Y_TEXT = 80\n",
    "    #Add Title\n",
    "    width, _ = myFont.getsize(TITLE)\n",
    "    I1.text(((W-width-40)/2,Y_TEXT), TITLE, font=myFont, fill=\"#dec557\", align='center')\n",
    "\n",
    "    import textwrap\n",
    "    lines = textwrap.wrap(translation, width=45)\n",
    "    # lines = verses_lines\n",
    "    y_text = H/2\n",
    "    n_lines = len(lines)\n",
    "    y_text = (H-n_lines*myFont.getsize(lines[0])[-1])/2\n",
    "\n",
    "    for idx, line in  enumerate(lines):\n",
    "        width, height = myFont.getsize(line)\n",
    "    #     I1.text(((W-width)/2,(H-height*(n_lines-2*idx))/2), line, font=myFont, fill=\"#dec557\", align='center')\n",
    "        I1.text(((W-width-40)/2,y_text+40), line, font=myFont, fill=\"#dec557\", align='center')\n",
    "        y_text+=height\n",
    "\n",
    "    BOTTOM = f\"Chapter: {chapter} Verse: {verses}\"\n",
    "    width, height = myFont.getsize(BOTTOM)\n",
    "    I1.text(((W-width-40)/2,H-Y_TEXT/2-height), BOTTOM, font=myFont, fill=\"#dec557\", align='center')\n",
    "\n",
    "    # img.show()\n",
    "    img.save(f'../output/english_translation/{str(chapter).zfill(2)}_{verses}_00.png')"
   ]
  },
  {
   "cell_type": "code",
   "execution_count": null,
   "id": "00fc066f",
   "metadata": {},
   "outputs": [],
   "source": []
  },
  {
   "cell_type": "code",
   "execution_count": null,
   "id": "8a668202",
   "metadata": {},
   "outputs": [],
   "source": []
  }
 ],
 "metadata": {
  "kernelspec": {
   "display_name": "Python 3 (ipykernel)",
   "language": "python",
   "name": "python3"
  },
  "language_info": {
   "codemirror_mode": {
    "name": "ipython",
    "version": 3
   },
   "file_extension": ".py",
   "mimetype": "text/x-python",
   "name": "python",
   "nbconvert_exporter": "python",
   "pygments_lexer": "ipython3",
   "version": "3.8.10"
  }
 },
 "nbformat": 4,
 "nbformat_minor": 5
}
